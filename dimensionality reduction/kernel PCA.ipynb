{
 "cells": [
  {
   "cell_type": "code",
   "execution_count": 1,
   "id": "ef2e0a03",
   "metadata": {},
   "outputs": [],
   "source": [
    "import pandas as pd\n",
    "import numpy as np\n",
    "from matplotlib import pyplot as plt\n",
    "from sklearn.preprocessing import StandardScaler"
   ]
  },
  {
   "cell_type": "code",
   "execution_count": 2,
   "id": "c7cd2cb0",
   "metadata": {},
   "outputs": [],
   "source": [
    "dataset=pd.read_csv(\"CKD.csv\")\n",
    "dataset=pd.get_dummies(dataset,dtype=int,drop_first=True)"
   ]
  },
  {
   "cell_type": "code",
   "execution_count": 3,
   "id": "d51306db",
   "metadata": {},
   "outputs": [],
   "source": [
    "independent=dataset.iloc[:,:-1]\n",
    "dependent=dataset.iloc[:,-1]"
   ]
  },
  {
   "cell_type": "code",
   "execution_count": 4,
   "id": "64236e7d",
   "metadata": {},
   "outputs": [],
   "source": [
    "from sklearn.model_selection import train_test_split\n",
    "x_train,x_test,y_train,y_test=train_test_split(independent,dependent,test_size=.30,random_state=False)\n",
    "\n",
    "from sklearn.preprocessing import StandardScaler\n",
    "sc=StandardScaler()\n",
    "x_train=sc.fit_transform(x_train)\n",
    "x_test=sc.transform(x_test)"
   ]
  },
  {
   "cell_type": "markdown",
   "id": "46a5b28f",
   "metadata": {},
   "source": [
    "# 3 now we r going to apply Kernel Pca"
   ]
  },
  {
   "cell_type": "code",
   "execution_count": 5,
   "id": "a36068d8",
   "metadata": {},
   "outputs": [],
   "source": [
    "def kernel_pca(n,x_train,x_test):\n",
    "    \n",
    "    from sklearn.decomposition import KernelPCA as kpc\n",
    "    kpc_model=kpc(n_components=n)\n",
    "    x_train=kpc_model.fit_transform(x_train)\n",
    "    x_test=kpc_model.transform(x_test)\n",
    "    return x_train,x_test"
   ]
  },
  {
   "cell_type": "code",
   "execution_count": 6,
   "id": "0ce4beb4",
   "metadata": {},
   "outputs": [],
   "source": [
    "x_train,x_test=kernel_pca(2,x_train,x_test)"
   ]
  },
  {
   "cell_type": "markdown",
   "id": "8ea58825",
   "metadata": {},
   "source": [
    "# 4 we r going to create different models"
   ]
  },
  {
   "cell_type": "code",
   "execution_count": 7,
   "id": "69949c73",
   "metadata": {},
   "outputs": [],
   "source": [
    "acclog_reg=[]\n",
    "accsvmlin=[]\n",
    "accsvm_non=[]\n",
    "accRF=[]\n",
    "accDEC_tree=[]\n",
    "accnavie_bayes=[]\n",
    "accknn=[]"
   ]
  },
  {
   "cell_type": "code",
   "execution_count": 8,
   "id": "d6ed3d01",
   "metadata": {},
   "outputs": [],
   "source": [
    "def cm_prediction(model,x_test,y_test):\n",
    "    y_predict=model.predict(x_test)\n",
    "    from sklearn.metrics import confusion_matrix,classification_report,accuracy_score\n",
    "    cm=confusion_matrix(y_test,y_predict)\n",
    "    report=classification_report(y_test,y_predict)\n",
    "    acc_score=accuracy_score(y_test,y_predict)\n",
    "    return cm,report,acc_score"
   ]
  },
  {
   "cell_type": "code",
   "execution_count": 9,
   "id": "e3987345",
   "metadata": {},
   "outputs": [],
   "source": [
    "def logreg(x_train,y_train,x_test,y_test):\n",
    "    from sklearn.linear_model import LogisticRegression\n",
    "    model=LogisticRegression(random_state=0)\n",
    "    model.fit(x_train,y_train)\n",
    "    cm,report,acc_score=cm_prediction(model,x_test,y_test)\n",
    "    return model,x_test,y_test,cm,report,acc_score\n",
    "\n",
    "\n",
    "model,x_test,y_test,cm,report,acc_score=logreg(x_train,y_train,x_test,y_test)\n",
    "acclog_reg.append(acc_score)"
   ]
  },
  {
   "cell_type": "code",
   "execution_count": 10,
   "id": "25098d9d",
   "metadata": {},
   "outputs": [],
   "source": [
    "def svmlinear(x_train,y_train,x_test,y_test):\n",
    "    from sklearn.svm import SVC\n",
    "    model=SVC(kernel=\"linear\",random_state=0)\n",
    "    model.fit(x_train,y_train)\n",
    "    cm,report,acc_score=cm_prediction(model,x_test,y_test)\n",
    "    return model,x_test,y_test,cm,report,acc_score\n",
    "\n",
    "model,x_test,y_test,cm,report,acc_score=svmlinear(x_train,y_train,x_test,y_test)\n",
    "accsvmlin.append(acc_score)"
   ]
  },
  {
   "cell_type": "code",
   "execution_count": 11,
   "id": "d166476b",
   "metadata": {},
   "outputs": [],
   "source": [
    "def svmnonlinear(x_train,y_train,x_test,y_test):\n",
    "    from sklearn.svm import SVC\n",
    "    model=SVC(kernel=\"rbf\",random_state=0)\n",
    "    model.fit(x_train,y_train)\n",
    "    cm,report,acc_score=cm_prediction(model,x_test,y_test)\n",
    "    return model,x_test,y_test,cm,report,acc_score\n",
    "\n",
    "model,x_test,y_test,cm,report,acc_score=svmnonlinear(x_train,y_train,x_test,y_test)\n",
    "accsvm_non.append(acc_score)\n"
   ]
  },
  {
   "cell_type": "code",
   "execution_count": 12,
   "id": "71607518",
   "metadata": {},
   "outputs": [],
   "source": [
    "def knn(x_train,y_train,x_test,y_test):\n",
    "    from sklearn.neighbors import KNeighborsClassifier\n",
    "    model=KNeighborsClassifier(n_neighbors=3)\n",
    "    model.fit(x_train,y_train)\n",
    "    cm,report,acc_score=cm_prediction(model,x_test,y_test)\n",
    "    return model,x_test,y_test,cm,report,acc_score\n",
    "\n",
    "model,x_test,y_test,cm,report,acc_score=knn(x_train,y_train,x_test,y_test)\n",
    "accknn.append(acc_score)"
   ]
  },
  {
   "cell_type": "code",
   "execution_count": 13,
   "id": "f9cc7b23",
   "metadata": {},
   "outputs": [
    {
     "data": {
      "text/html": [
       "<div>\n",
       "<style scoped>\n",
       "    .dataframe tbody tr th:only-of-type {\n",
       "        vertical-align: middle;\n",
       "    }\n",
       "\n",
       "    .dataframe tbody tr th {\n",
       "        vertical-align: top;\n",
       "    }\n",
       "\n",
       "    .dataframe thead th {\n",
       "        text-align: right;\n",
       "    }\n",
       "</style>\n",
       "<table border=\"1\" class=\"dataframe\">\n",
       "  <thead>\n",
       "    <tr style=\"text-align: right;\">\n",
       "      <th></th>\n",
       "      <th>logistic</th>\n",
       "      <th>svml</th>\n",
       "      <th>svmnl</th>\n",
       "      <th>knn</th>\n",
       "    </tr>\n",
       "  </thead>\n",
       "  <tbody>\n",
       "    <tr>\n",
       "      <th>LDA</th>\n",
       "      <td>0.991667</td>\n",
       "      <td>1</td>\n",
       "      <td>1</td>\n",
       "      <td>1</td>\n",
       "    </tr>\n",
       "  </tbody>\n",
       "</table>\n",
       "</div>"
      ],
      "text/plain": [
       "     logistic svml svmnl knn\n",
       "LDA  0.991667    1     1   1"
      ]
     },
     "execution_count": 13,
     "metadata": {},
     "output_type": "execute_result"
    }
   ],
   "source": [
    "def kernelpca_classification(acclog_reg,accsvmlin,accsvm_non,accknn):\n",
    "    \n",
    "    df=pd.DataFrame(index=[\"LDA\"],columns=[\"logistic\",\"svml\",\"svmnl\",\"knn\"])\n",
    "    for number,idex in enumerate (df.index):\n",
    "        df[\"logistic\"][idex]=acclog_reg[number]\n",
    "        df[\"svml\"][idex]=accsvmlin[number]\n",
    "        df[\"svmnl\"][idex]=accsvm_non[number]\n",
    "        df[\"knn\"][idex]=accknn[number]\n",
    "    return df\n",
    "\n",
    "\n",
    "result=kernelpca_classification(acclog_reg,accsvmlin,accsvm_non,accknn)\n",
    "\n",
    "result"
   ]
  },
  {
   "cell_type": "code",
   "execution_count": null,
   "id": "76a34ace",
   "metadata": {},
   "outputs": [],
   "source": []
  },
  {
   "cell_type": "code",
   "execution_count": null,
   "id": "b766d1b3",
   "metadata": {},
   "outputs": [],
   "source": []
  }
 ],
 "metadata": {
  "kernelspec": {
   "display_name": "Python 3 (ipykernel)",
   "language": "python",
   "name": "python3"
  },
  "language_info": {
   "codemirror_mode": {
    "name": "ipython",
    "version": 3
   },
   "file_extension": ".py",
   "mimetype": "text/x-python",
   "name": "python",
   "nbconvert_exporter": "python",
   "pygments_lexer": "ipython3",
   "version": "3.7.1"
  }
 },
 "nbformat": 4,
 "nbformat_minor": 5
}
