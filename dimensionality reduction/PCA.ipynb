{
 "cells": [
  {
   "cell_type": "code",
   "execution_count": 1,
   "id": "83828a7d",
   "metadata": {},
   "outputs": [],
   "source": [
    "import pandas as pd\n",
    "import numpy as np\n",
    "from matplotlib import pyplot as plt\n",
    "from sklearn.preprocessing import StandardScaler"
   ]
  },
  {
   "cell_type": "code",
   "execution_count": 3,
   "id": "7f7d5386",
   "metadata": {},
   "outputs": [],
   "source": [
    "dataset=pd.read_csv(\"CKD.csv\")"
   ]
  },
  {
   "cell_type": "code",
   "execution_count": 22,
   "id": "6c27d802",
   "metadata": {},
   "outputs": [],
   "source": [
    "dataset=pd.get_dummies(dataset,dtype=int,drop_first=True)"
   ]
  },
  {
   "cell_type": "code",
   "execution_count": 23,
   "id": "e05a5645",
   "metadata": {},
   "outputs": [],
   "source": [
    "# when we want to split our dataset to independent and depndent we can use our usual method\n",
    "# or use iloc[] method which is an inbuild method of our dataframe."
   ]
  },
  {
   "cell_type": "code",
   "execution_count": 24,
   "id": "d0775fa4",
   "metadata": {},
   "outputs": [],
   "source": [
    "independent=dataset.iloc[:,:-1]\n",
    "\n",
    "# here for independent we r selecting all rows(:) and all columns except last(:-1).\n",
    "# wher -1 is the last column even if we hv 100 or 200 columns. its for flexibility"
   ]
  },
  {
   "cell_type": "code",
   "execution_count": 45,
   "id": "790371d0",
   "metadata": {},
   "outputs": [],
   "source": [
    "dependent=dataset.iloc[:,-1]# gives all rows(:)of column [-1]\n",
    "# here to retun a data frame we give [-1] and not jus -1 if we jus give  -1 we get a pandas series in 1d array.[:,[-1]]\n",
    "# so wen its jus a number and u want a dataframe back give it as[:,[-1]] or [:,:-1] ."
   ]
  },
  {
   "cell_type": "code",
   "execution_count": 46,
   "id": "1ee52565",
   "metadata": {},
   "outputs": [
    {
     "data": {
      "text/plain": [
       "0      1\n",
       "1      1\n",
       "2      1\n",
       "3      1\n",
       "4      1\n",
       "      ..\n",
       "394    1\n",
       "395    1\n",
       "396    1\n",
       "397    1\n",
       "398    0\n",
       "Name: classification_yes, Length: 399, dtype: int32"
      ]
     },
     "execution_count": 46,
     "metadata": {},
     "output_type": "execute_result"
    }
   ],
   "source": [
    "dependent"
   ]
  },
  {
   "cell_type": "markdown",
   "id": "cbfb28c3",
   "metadata": {},
   "source": [
    "# 2. splitting and standardisation"
   ]
  },
  {
   "cell_type": "code",
   "execution_count": 47,
   "id": "a706c24e",
   "metadata": {},
   "outputs": [],
   "source": [
    "from sklearn.model_selection import train_test_split\n",
    "x_train,x_test,y_train,y_test=train_test_split(independent,dependent,test_size=.30,random_state=False)"
   ]
  },
  {
   "cell_type": "code",
   "execution_count": 48,
   "id": "d255d41c",
   "metadata": {},
   "outputs": [],
   "source": [
    "from sklearn.preprocessing import StandardScaler\n",
    "sc=StandardScaler()\n",
    "x_train=sc.fit_transform(x_train)\n",
    "x_test=sc.transform(x_test)"
   ]
  },
  {
   "cell_type": "markdown",
   "id": "1f0ca6e3",
   "metadata": {},
   "source": [
    "# 3 now we r going to apply PCA"
   ]
  },
  {
   "cell_type": "code",
   "execution_count": 49,
   "id": "6333d372",
   "metadata": {},
   "outputs": [],
   "source": [
    "def pca(x_train,x_test)\n",
    "\n",
    "from sklearn.decomposition import PCA\n",
    "pca_model=PCA(n_components=2)\n",
    "x_train=pca_model.fit_transform(x_train)\n",
    "x_test=pca_model.transform(x_test)\n",
    "explained_variance_ratio=pca_model.explained_variance_ratio_\n",
    "\n",
    "# n-components =2 means how many dimensions we want our original data to reduce to, so 2 principal componts with max. variance.\n",
    " # explained variance ratio =eigenvalue(variance in each principal component)/ totalsum of eigenvalues\n",
    "# now x_train has 2 D AND X_test also has 2dimensional representation i.e both have 2 columns\n",
    "# check by x_train.shape"
   ]
  },
  {
   "cell_type": "code",
   "execution_count": 50,
   "id": "797c09e3",
   "metadata": {},
   "outputs": [
    {
     "data": {
      "text/plain": [
       "(279, 2)"
      ]
     },
     "execution_count": 50,
     "metadata": {},
     "output_type": "execute_result"
    }
   ],
   "source": [
    "x_train.shape"
   ]
  },
  {
   "cell_type": "code",
   "execution_count": 74,
   "id": "72ee3672",
   "metadata": {},
   "outputs": [],
   "source": [
    "def pca(x_train,x_test,n):\n",
    "    from sklearn.decomposition import PCA\n",
    "    pca_model=PCA(n_components=n)\n",
    "    x_train=pca_model.fit_transform(x_train)\n",
    "    x_test=pca_model.transform(x_test)\n",
    "    return x_train,x_test"
   ]
  },
  {
   "cell_type": "code",
   "execution_count": 75,
   "id": "13b9980d",
   "metadata": {},
   "outputs": [],
   "source": [
    "x_train,x_test=pca(x_train,x_test,2)"
   ]
  },
  {
   "cell_type": "code",
   "execution_count": 76,
   "id": "3d780fa7",
   "metadata": {},
   "outputs": [
    {
     "data": {
      "text/plain": [
       "(279, 2)"
      ]
     },
     "execution_count": 76,
     "metadata": {},
     "output_type": "execute_result"
    }
   ],
   "source": [
    "x_train.shape"
   ]
  },
  {
   "cell_type": "code",
   "execution_count": 71,
   "id": "15d6a0e7",
   "metadata": {},
   "outputs": [
    {
     "data": {
      "text/plain": [
       "(120, 2)"
      ]
     },
     "execution_count": 71,
     "metadata": {},
     "output_type": "execute_result"
    }
   ],
   "source": [
    "x_test.shape"
   ]
  },
  {
   "cell_type": "markdown",
   "id": "9ccdfd6b",
   "metadata": {},
   "source": [
    "# 4 we r going to create different models"
   ]
  },
  {
   "cell_type": "code",
   "execution_count": 72,
   "id": "62cc9fc8",
   "metadata": {},
   "outputs": [],
   "source": [
    "acclog_reg=[]\n",
    "accsvmlin=[]\n",
    "accsvm_non=[]\n",
    "accRF=[]\n",
    "accDEC_tree=[]\n",
    "accnavie_bayes=[]\n",
    "accknn=[]"
   ]
  },
  {
   "cell_type": "code",
   "execution_count": 87,
   "id": "4e53b8f0",
   "metadata": {},
   "outputs": [],
   "source": [
    "def cm_prediction(model,x_test,y_test):\n",
    "    y_predict=model.predict(x_test)\n",
    "    from sklearn.metrics import confusion_matrix,classification_report,accuracy_score\n",
    "    cm=confusion_matrix(y_test,y_predict)\n",
    "    report=classification_report(y_test,y_predict)\n",
    "    acc_score=accuracy_score(y_test,y_predict)\n",
    "    return cm,report,acc_score"
   ]
  },
  {
   "cell_type": "code",
   "execution_count": 90,
   "id": "c558acd4",
   "metadata": {},
   "outputs": [],
   "source": [
    "def logreg(x_train,y_train,x_test,y_test):\n",
    "    from sklearn.linear_model import LogisticRegression\n",
    "    model=LogisticRegression(random_state=0)\n",
    "    model.fit(x_train,y_train)\n",
    "    cm,report,acc_score=cm_prediction(model,x_test,y_test)\n",
    "    return model,x_test,y_test,cm,report,acc_score"
   ]
  },
  {
   "cell_type": "code",
   "execution_count": 95,
   "id": "74735929",
   "metadata": {},
   "outputs": [],
   "source": [
    "model,x_test,y_test,cm,report,acc_score=logreg(x_train,y_train,x_test,y_test)\n",
    "acclog_reg.append(acc_score)"
   ]
  },
  {
   "cell_type": "code",
   "execution_count": 97,
   "id": "83e7edc0",
   "metadata": {},
   "outputs": [],
   "source": [
    "def svmlinear(x_train,y_train,x_test,y_test):\n",
    "    from sklearn.svm import SVC\n",
    "    model=SVC(kernel=\"linear\",random_state=0)\n",
    "    model.fit(x_train_red,y_train)\n",
    "    cm,report,acc_score=cm_prediction(model,x_test,y_test)\n",
    "    return model,x_test,y_test,cm,report,acc_score"
   ]
  },
  {
   "cell_type": "code",
   "execution_count": 101,
   "id": "616066e5",
   "metadata": {},
   "outputs": [],
   "source": [
    "model,x_test,y_test,cm,report,acc_score=svmlinear(x_train,y_train,x_test,y_test)\n",
    "accsvmlin.append(acc_score)"
   ]
  },
  {
   "cell_type": "code",
   "execution_count": 102,
   "id": "d5db0134",
   "metadata": {},
   "outputs": [],
   "source": [
    "def svmnonlinear(x_train,y_train,x_test,y_test):\n",
    "    from sklearn.svm import SVC\n",
    "    model=SVC(kernel=\"rbf\",random_state=0)\n",
    "    model.fit(x_train,y_train)\n",
    "    cm,report,acc_score=cm_prediction(model,x_test,y_test)\n",
    "    return model,x_test,y_test,cm,report,acc_score\n"
   ]
  },
  {
   "cell_type": "code",
   "execution_count": 103,
   "id": "fd6d4b10",
   "metadata": {},
   "outputs": [],
   "source": [
    "model,x_test,y_test,cm,report,acc_score=svmnonlinear(x_train,y_train,x_test,y_test)\n",
    "accsvm_non.append(acc_score)"
   ]
  },
  {
   "cell_type": "code",
   "execution_count": 105,
   "id": "45c7918a",
   "metadata": {},
   "outputs": [],
   "source": [
    "def knn(x_train,y_train,x_test,y_test):\n",
    "    from sklearn.neighbors import KNeighborsClassifier\n",
    "    model=KNeighborsClassifier(n_neighbors=3)\n",
    "    model.fit(x_train,y_train)\n",
    "    cm,report,acc_score=cm_prediction(model,x_test,y_test)\n",
    "    return model,x_test,y_test,cm,report,acc_score"
   ]
  },
  {
   "cell_type": "code",
   "execution_count": 106,
   "id": "44279544",
   "metadata": {},
   "outputs": [],
   "source": [
    "model,x_test,y_test,cm,report,acc_score=knn(x_train,y_train,x_test,y_test)\n",
    "accknn.append(acc_score)"
   ]
  },
  {
   "cell_type": "code",
   "execution_count": 115,
   "id": "9b4f3dce",
   "metadata": {},
   "outputs": [],
   "source": [
    "def pca_classification(acclog_reg,accsvmlin,accsvm_non,accknn):\n",
    "    \n",
    "    df=pd.DataFrame(index=[\"PCA\"],columns=[\"logistic\",\"svml\",\"svmnl\",\"knn\"])\n",
    "    for number,idex in enumerate (df.index):\n",
    "        df[\"logistic\"][idex]=acclog_reg[number]\n",
    "        df[\"svml\"][idex]=accsvmlin[number]\n",
    "        df[\"svmnl\"][idex]=accsvm_non[number]\n",
    "        df[\"knn\"][idex]=accknn[number]\n",
    "    return df"
   ]
  },
  {
   "cell_type": "code",
   "execution_count": 117,
   "id": "8e90db5b",
   "metadata": {},
   "outputs": [],
   "source": [
    "result=pca_classification(acclog_reg,accsvmlin,accsvm_non,accknn)"
   ]
  },
  {
   "cell_type": "code",
   "execution_count": 118,
   "id": "7834405d",
   "metadata": {},
   "outputs": [
    {
     "data": {
      "text/html": [
       "<div>\n",
       "<style scoped>\n",
       "    .dataframe tbody tr th:only-of-type {\n",
       "        vertical-align: middle;\n",
       "    }\n",
       "\n",
       "    .dataframe tbody tr th {\n",
       "        vertical-align: top;\n",
       "    }\n",
       "\n",
       "    .dataframe thead th {\n",
       "        text-align: right;\n",
       "    }\n",
       "</style>\n",
       "<table border=\"1\" class=\"dataframe\">\n",
       "  <thead>\n",
       "    <tr style=\"text-align: right;\">\n",
       "      <th></th>\n",
       "      <th>logistic</th>\n",
       "      <th>svml</th>\n",
       "      <th>svmnl</th>\n",
       "      <th>knn</th>\n",
       "    </tr>\n",
       "  </thead>\n",
       "  <tbody>\n",
       "    <tr>\n",
       "      <th>PCA</th>\n",
       "      <td>0.991667</td>\n",
       "      <td>1</td>\n",
       "      <td>1</td>\n",
       "      <td>1</td>\n",
       "    </tr>\n",
       "  </tbody>\n",
       "</table>\n",
       "</div>"
      ],
      "text/plain": [
       "     logistic svml svmnl knn\n",
       "PCA  0.991667    1     1   1"
      ]
     },
     "execution_count": 118,
     "metadata": {},
     "output_type": "execute_result"
    }
   ],
   "source": [
    "result"
   ]
  },
  {
   "cell_type": "markdown",
   "id": "cf06c765",
   "metadata": {},
   "source": [
    "# so hw the set of functions run is :\n",
    "\n",
    "\n",
    "# 1. x_train,x_test=pca(x_train,x_test,2)\n",
    "    # a.x_train.shape\n",
    "    # b,x-test.shape\n",
    "# 2.model,x_test,y_test,cm,report,acc_score=logreg(x_train,y_train,x_test,y_test)\n",
    "    # acclog_reg.append(acc_score)\n",
    "    \n",
    "    # model,x_test,y_test,cm,report,acc_score=svmlinear(x_train,y_train,x_test,y_test)\n",
    "    #  accsvmlin.append(acc_score)\n",
    "    \n",
    "    #model,x_test,y_test,cm,report,acc_score=svmnonlinear(x_train,y_train,x_test,y_test)\n",
    "    # accsvm_non.append(acc_score)\n",
    "    \n",
    "    # model,x_test,y_test,cm,report,acc_score=knn(x_train,y_train,x_test,y_test)\n",
    "    # accknn.append(acc_score)\n",
    "    \n",
    "# 3.result=pca_classification(acclog_reg,accsvmlin,accsvm_non,accknn)"
   ]
  },
  {
   "cell_type": "code",
   "execution_count": null,
   "id": "55338b77",
   "metadata": {},
   "outputs": [],
   "source": []
  }
 ],
 "metadata": {
  "kernelspec": {
   "display_name": "Python 3 (ipykernel)",
   "language": "python",
   "name": "python3"
  },
  "language_info": {
   "codemirror_mode": {
    "name": "ipython",
    "version": 3
   },
   "file_extension": ".py",
   "mimetype": "text/x-python",
   "name": "python",
   "nbconvert_exporter": "python",
   "pygments_lexer": "ipython3",
   "version": "3.7.1"
  }
 },
 "nbformat": 4,
 "nbformat_minor": 5
}
