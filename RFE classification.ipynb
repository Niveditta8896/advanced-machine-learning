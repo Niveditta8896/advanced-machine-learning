{
 "cells": [
  {
   "cell_type": "markdown",
   "id": "b5f65d95",
   "metadata": {},
   "source": [
    "# RFE another feature selection method"
   ]
  },
  {
   "cell_type": "code",
   "execution_count": 1,
   "id": "23441daa",
   "metadata": {},
   "outputs": [],
   "source": [
    "import pandas as pd\n",
    "import numpy as np\n",
    "from matplotlib import pyplot as plt\n",
    "from sklearn.preprocessing import StandardScaler"
   ]
  },
  {
   "cell_type": "code",
   "execution_count": 2,
   "id": "dc502f72",
   "metadata": {},
   "outputs": [],
   "source": [
    "dataset=pd.read_csv(\"CKD.csv\")"
   ]
  },
  {
   "cell_type": "code",
   "execution_count": 3,
   "id": "4a41bc0e",
   "metadata": {},
   "outputs": [],
   "source": [
    "dataset=pd.get_dummies(dataset,dtype=int,drop_first=True)\n",
    "independent=dataset.drop(\"classification_yes\",axis=1)\n",
    "dependent=dataset[\"classification_yes\"]"
   ]
  },
  {
   "cell_type": "code",
   "execution_count": 4,
   "id": "5ecc29e0",
   "metadata": {},
   "outputs": [],
   "source": [
    "from sklearn.feature_selection import RFE\n",
    "from sklearn.linear_model import LogisticRegression\n",
    "from sklearn.svm import SVC\n",
    "from sklearn.ensemble import RandomForestClassifier"
   ]
  },
  {
   "cell_type": "markdown",
   "id": "3e256367",
   "metadata": {},
   "source": [
    "# 1. first we select n features using RFE"
   ]
  },
  {
   "cell_type": "code",
   "execution_count": 5,
   "id": "7fcd62c1",
   "metadata": {},
   "outputs": [],
   "source": [
    "\n",
    "def rfefeature(independent,dependent,n):\n",
    "    rfelist=[]\n",
    "    #RFE has many models cos for each model the n no of features will be different\n",
    "    # it uses models as the evaluation metrics for deciding n,like chis_core for kbest.\n",
    "    log_model=LogisticRegression(max_iter=1000, solver=\"liblinear\", random_state=0)\n",
    "    svc=SVC(kernel=\"linear\",random_state=0)\n",
    "    RF=RandomForestClassifier(n_estimators=3,criterion=\"entropy\",random_state=0)\n",
    "    rfemodellist=[log_model,svc,RF]\n",
    "    for i in  rfemodellist:\n",
    "        print(i)\n",
    "        model=RFE(estimator=i, n_features_to_select=n)\n",
    "        logrfe_fit=model.fit(independent,dependent) #\n",
    "        logrfe_feature=logrfe_fit.transform(independent)\n",
    "        rfelist.append(logrfe_feature)\n",
    "    return rfelist\n",
    "\n",
    "## 1. wat happens hier is wen i= log_model, the best n features is selected, the logisticregression uses weight of the feature\n",
    "# like how much a feature influences a prediction and increase the model performance. higher the value feature is of \n",
    "# higher importance\n",
    "\n",
    "# 2. same with svm\n",
    "\n",
    "# 3. with RF, IT DECIDES BEST N FEATURES BY WHICH FEATUE reduces impurity in decision trees. if a features increases impurity ,\n",
    "# it affects model performance.\n",
    "\n",
    "# 4. so wen RFE(estimators=i, n_features_to_select=n) is run all the best features r selected and least important r deleted\n",
    "#    until only n no of features with high importance r left. these r the parameters of RFE.\n",
    "\n",
    "# 5 . logrfe_fit=model.fit(independent,dependent) for these best n features the model is trained with respective output\n",
    "\n",
    "# 6. logrfe_fit.transform(independent) this  only keeps the top most n features."
   ]
  },
  {
   "cell_type": "code",
   "execution_count": 30,
   "id": "275b2c3a",
   "metadata": {},
   "outputs": [
    {
     "name": "stdout",
     "output_type": "stream",
     "text": [
      "LogisticRegression(max_iter=1000, random_state=0, solver='liblinear')\n",
      "SVC(kernel='linear', random_state=0)\n",
      "RandomForestClassifier(criterion='entropy', n_estimators=3, random_state=0)\n"
     ]
    }
   ],
   "source": [
    "rfelist=rfefeature(independent,dependent,3)"
   ]
  },
  {
   "cell_type": "markdown",
   "id": "90ceb572",
   "metadata": {},
   "source": [
    "# 2. once we hv selected or best features we r going to split our data and standardise it"
   ]
  },
  {
   "cell_type": "code",
   "execution_count": 31,
   "id": "e9e03738",
   "metadata": {},
   "outputs": [],
   "source": [
    "from sklearn.model_selection import train_test_split\n",
    "from sklearn.preprocessing import StandardScaler\n",
    "def split_scaler(independent,dependent):\n",
    "    x_train,x_test,y_train,y_test=train_test_split(independent,dependent,test_size=.25,random_state=0)\n",
    "    sc=StandardScaler()\n",
    "    x_train=sc.fit_transform(x_train)\n",
    "    x_test=sc.transform(x_test)\n",
    "    return x_train,x_test,y_train,y_test\n",
    "\n"
   ]
  },
  {
   "cell_type": "code",
   "execution_count": 32,
   "id": "0b604783",
   "metadata": {},
   "outputs": [],
   "source": [
    "acclog_reg=[]\n",
    "accsvmlin=[]\n",
    "accsvm_non=[]\n",
    "accRF=[]\n",
    "accDEC_tree=[]\n",
    "accnavie_bayes=[]\n",
    "accknn=[]"
   ]
  },
  {
   "cell_type": "code",
   "execution_count": 33,
   "id": "d8e7cc78",
   "metadata": {},
   "outputs": [],
   "source": [
    "for i in rfelist:\n",
    "    x_train,x_test,y_train,y_test=split_scaler(i,dependent)  "
   ]
  },
  {
   "cell_type": "markdown",
   "id": "aabd074d",
   "metadata": {},
   "source": [
    "# 3. now we create models and see"
   ]
  },
  {
   "cell_type": "code",
   "execution_count": 34,
   "id": "2d239e25",
   "metadata": {},
   "outputs": [],
   "source": [
    "def cm_prediction(model,x_test): # hier cm is the confusion matrix so we r going to predict cm,report,acc_score for each model.\n",
    "    y_pred=model.predict(x_test) \n",
    "    from sklearn.metrics import confusion_matrix\n",
    "    from sklearn.metrics import classification_report\n",
    "    from sklearn.metrics import accuracy_score\n",
    "    cm=confusion_matrix(y_test,y_pred)\n",
    "    report=classification_report(y_test,y_pred)# always the format is first y_test, then y_pred\n",
    "    acc_score=accuracy_score(y_test,y_pred)\n",
    "    return cm,report,acc_score"
   ]
  },
  {
   "cell_type": "code",
   "execution_count": 35,
   "id": "e9c13e19",
   "metadata": {},
   "outputs": [],
   "source": [
    "def logistic(x_train,y_train,x_test,y_test): # 1st model logistic regression\n",
    "    from sklearn.linear_model import LogisticRegression\n",
    "    model=LogisticRegression(random_state=0)\n",
    "    model.fit(x_train,y_train)\n",
    "    # once the model is fitted we find cm,report,acc_score which is already in cm_prediction(model,x_test) so jus call it\n",
    "    cm,report,acc_score=cm_prediction(model,x_test)\n",
    "    return model,x_test,y_test,cm,report,acc_score"
   ]
  },
  {
   "cell_type": "code",
   "execution_count": 36,
   "id": "3c4b7fde",
   "metadata": {},
   "outputs": [
    {
     "data": {
      "text/plain": [
       "[0.91]"
      ]
     },
     "execution_count": 36,
     "metadata": {},
     "output_type": "execute_result"
    }
   ],
   "source": [
    "model,x_test,y_test,cm,report,acc_score=logistic(x_train,y_train,x_test,y_test)\n",
    "acclog_reg.append(acc_score)\n",
    "acclog_reg"
   ]
  },
  {
   "cell_type": "code",
   "execution_count": 37,
   "id": "fca2e924",
   "metadata": {},
   "outputs": [],
   "source": [
    "def svmlinear(x_train,y_train,x_test,y_test):\n",
    "    from sklearn.svm import SVC\n",
    "    model=SVC(kernel=\"linear\",random_state=0)\n",
    "    model.fit(x_train,y_train)\n",
    "    cm,report,acc_score=cm_prediction(model,x_test)\n",
    "    return model,x_test,y_test,cm,report,acc_score"
   ]
  },
  {
   "cell_type": "code",
   "execution_count": 38,
   "id": "610ee2cb",
   "metadata": {},
   "outputs": [],
   "source": [
    "def svmnonlinear(x_train,y_train,x_test,y_test):\n",
    "    from sklearn.svm import SVC\n",
    "    model=SVC(kernel=\"rbf\",random_state=0)\n",
    "    model.fit(x_train,y_train)\n",
    "    cm,report,acc_score=cm_prediction(model,x_test)\n",
    "    return model,x_test,y_test,cm,report,acc_score"
   ]
  },
  {
   "cell_type": "code",
   "execution_count": 39,
   "id": "17f45ebb",
   "metadata": {},
   "outputs": [
    {
     "data": {
      "text/plain": [
       "[0.93]"
      ]
     },
     "execution_count": 39,
     "metadata": {},
     "output_type": "execute_result"
    }
   ],
   "source": [
    "model,x_test,y_test,cm,report,acc_score=svmnonlinear(x_train,y_train,x_test,y_test)\n",
    "accsvm_non.append(acc_score)\n",
    "accsvm_non"
   ]
  },
  {
   "cell_type": "code",
   "execution_count": 40,
   "id": "44486214",
   "metadata": {},
   "outputs": [
    {
     "data": {
      "text/plain": [
       "[0.92]"
      ]
     },
     "execution_count": 40,
     "metadata": {},
     "output_type": "execute_result"
    }
   ],
   "source": [
    "model,x_test,y_test,cm,report,acc_score=svmlinear(x_train,y_train,x_test,y_test)\n",
    "accsvmlin.append(acc_score)\n",
    "accsvmlin"
   ]
  },
  {
   "cell_type": "code",
   "execution_count": 41,
   "id": "c4067c0a",
   "metadata": {},
   "outputs": [],
   "source": [
    "def RF(x_train,y_train,x_test,y_test):\n",
    "    from sklearn.ensemble import RandomForestClassifier\n",
    "    model=RandomForestClassifier(n_estimators=3,criterion=\"entropy\",random_state=0)\n",
    "    model.fit(x_train,y_train)\n",
    "    cm,report,acc_score=cm_prediction(model,x_test)\n",
    "    return model,x_test,y_test,cm,report,acc_score"
   ]
  },
  {
   "cell_type": "code",
   "execution_count": 42,
   "id": "8f1b8bd9",
   "metadata": {},
   "outputs": [
    {
     "data": {
      "text/plain": [
       "[0.94]"
      ]
     },
     "execution_count": 42,
     "metadata": {},
     "output_type": "execute_result"
    }
   ],
   "source": [
    "model,x_test,y_test,cm,report,acc_score=RF(x_train,y_train,x_test,y_test)\n",
    "accRF.append(acc_score)\n",
    "accRF\n",
    "    "
   ]
  },
  {
   "cell_type": "code",
   "execution_count": 45,
   "id": "914a970b",
   "metadata": {},
   "outputs": [],
   "source": [
    "def rfe_classification(acclog_reg,accsvmlin,accsvm_non,accRF):\n",
    "    dataframe=pd.DataFrame(index=[\"logistic\",\"svml\",\"svmnl\",\"RF\"],columns=[\"logistic\",\"svml\",\"svmnl\",\"RF\"])\n",
    "    for number,idex in enumerate(dataframe.index):\n",
    "                           dataframe[\"logistic\"][idex]=acclog_reg[number]\n",
    "                           dataframe[\"svml\"][idex]=accsvmlin[number]\n",
    "                           dataframe[\"svmnl\"][idex]=accsvm_non[number]\n",
    "                           dataframe[\"RF\"][idex]=accRF[number]\n",
    "    return dataframe"
   ]
  },
  {
   "cell_type": "code",
   "execution_count": 46,
   "id": "6358d011",
   "metadata": {},
   "outputs": [],
   "source": [
    "for i in rfelist:\n",
    "    x_train,x_test,y_train,y_test=split_scaler(i,dependent)\n",
    "    model,x_test,y_test,cm,report,acc_score=logistic(x_train,y_train,x_test,y_test)\n",
    "    acclog_reg.append(acc_score)\n",
    "    model,x_test,y_test,cm,report,acc_score=svmlinear(x_train,y_train,x_test,y_test)\n",
    "    accsvmlin.append(acc_score)\n",
    "    model,x_test,y_test,cm,report,acc_score=svmnonlinear(x_train,y_train,x_test,y_test)\n",
    "    accsvm_non.append(acc_score)\n",
    "    model,x_test,y_test,cm,report,acc_score=RF(x_train,y_train,x_test,y_test)\n",
    "    accRF.append(acc_score)\n",
    "    \n",
    "result1=rfe_classification(acclog_reg,accsvmlin,accsvm_non,accRF)"
   ]
  },
  {
   "cell_type": "code",
   "execution_count": 29,
   "id": "f495a371",
   "metadata": {},
   "outputs": [
    {
     "data": {
      "text/html": [
       "<div>\n",
       "<style scoped>\n",
       "    .dataframe tbody tr th:only-of-type {\n",
       "        vertical-align: middle;\n",
       "    }\n",
       "\n",
       "    .dataframe tbody tr th {\n",
       "        vertical-align: top;\n",
       "    }\n",
       "\n",
       "    .dataframe thead th {\n",
       "        text-align: right;\n",
       "    }\n",
       "</style>\n",
       "<table border=\"1\" class=\"dataframe\">\n",
       "  <thead>\n",
       "    <tr style=\"text-align: right;\">\n",
       "      <th></th>\n",
       "      <th>logistic</th>\n",
       "      <th>svml</th>\n",
       "      <th>svmnl</th>\n",
       "      <th>RF</th>\n",
       "    </tr>\n",
       "  </thead>\n",
       "  <tbody>\n",
       "    <tr>\n",
       "      <th>logistic</th>\n",
       "      <td>0.95</td>\n",
       "      <td>0.98</td>\n",
       "      <td>0.98</td>\n",
       "      <td>0.96</td>\n",
       "    </tr>\n",
       "    <tr>\n",
       "      <th>svml</th>\n",
       "      <td>0.98</td>\n",
       "      <td>0.98</td>\n",
       "      <td>0.98</td>\n",
       "      <td>0.98</td>\n",
       "    </tr>\n",
       "    <tr>\n",
       "      <th>svmnl</th>\n",
       "      <td>0.98</td>\n",
       "      <td>0.98</td>\n",
       "      <td>0.98</td>\n",
       "      <td>0.98</td>\n",
       "    </tr>\n",
       "    <tr>\n",
       "      <th>RF</th>\n",
       "      <td>0.98</td>\n",
       "      <td>0.98</td>\n",
       "      <td>0.98</td>\n",
       "      <td>0.98</td>\n",
       "    </tr>\n",
       "  </tbody>\n",
       "</table>\n",
       "</div>"
      ],
      "text/plain": [
       "         logistic  svml svmnl    RF\n",
       "logistic     0.95  0.98  0.98  0.96\n",
       "svml         0.98  0.98  0.98  0.98\n",
       "svmnl        0.98  0.98  0.98  0.98\n",
       "RF           0.98  0.98  0.98  0.98"
      ]
     },
     "execution_count": 29,
     "metadata": {},
     "output_type": "execute_result"
    }
   ],
   "source": [
    "result1# for n=5"
   ]
  },
  {
   "cell_type": "code",
   "execution_count": 47,
   "id": "1be10e42",
   "metadata": {},
   "outputs": [
    {
     "data": {
      "text/html": [
       "<div>\n",
       "<style scoped>\n",
       "    .dataframe tbody tr th:only-of-type {\n",
       "        vertical-align: middle;\n",
       "    }\n",
       "\n",
       "    .dataframe tbody tr th {\n",
       "        vertical-align: top;\n",
       "    }\n",
       "\n",
       "    .dataframe thead th {\n",
       "        text-align: right;\n",
       "    }\n",
       "</style>\n",
       "<table border=\"1\" class=\"dataframe\">\n",
       "  <thead>\n",
       "    <tr style=\"text-align: right;\">\n",
       "      <th></th>\n",
       "      <th>logistic</th>\n",
       "      <th>svml</th>\n",
       "      <th>svmnl</th>\n",
       "      <th>RF</th>\n",
       "    </tr>\n",
       "  </thead>\n",
       "  <tbody>\n",
       "    <tr>\n",
       "      <th>logistic</th>\n",
       "      <td>0.91</td>\n",
       "      <td>0.92</td>\n",
       "      <td>0.93</td>\n",
       "      <td>0.94</td>\n",
       "    </tr>\n",
       "    <tr>\n",
       "      <th>svml</th>\n",
       "      <td>0.94</td>\n",
       "      <td>0.94</td>\n",
       "      <td>0.94</td>\n",
       "      <td>0.94</td>\n",
       "    </tr>\n",
       "    <tr>\n",
       "      <th>svmnl</th>\n",
       "      <td>0.87</td>\n",
       "      <td>0.87</td>\n",
       "      <td>0.87</td>\n",
       "      <td>0.94</td>\n",
       "    </tr>\n",
       "    <tr>\n",
       "      <th>RF</th>\n",
       "      <td>0.91</td>\n",
       "      <td>0.92</td>\n",
       "      <td>0.93</td>\n",
       "      <td>0.87</td>\n",
       "    </tr>\n",
       "  </tbody>\n",
       "</table>\n",
       "</div>"
      ],
      "text/plain": [
       "         logistic  svml svmnl    RF\n",
       "logistic     0.91  0.92  0.93  0.94\n",
       "svml         0.94  0.94  0.94  0.94\n",
       "svmnl        0.87  0.87  0.87  0.94\n",
       "RF           0.91  0.92  0.93  0.87"
      ]
     },
     "execution_count": 47,
     "metadata": {},
     "output_type": "execute_result"
    }
   ],
   "source": [
    "result1# for n=3"
   ]
  },
  {
   "cell_type": "code",
   "execution_count": null,
   "id": "92319b2c",
   "metadata": {},
   "outputs": [],
   "source": []
  }
 ],
 "metadata": {
  "kernelspec": {
   "display_name": "Python 3 (ipykernel)",
   "language": "python",
   "name": "python3"
  },
  "language_info": {
   "codemirror_mode": {
    "name": "ipython",
    "version": 3
   },
   "file_extension": ".py",
   "mimetype": "text/x-python",
   "name": "python",
   "nbconvert_exporter": "python",
   "pygments_lexer": "ipython3",
   "version": "3.7.1"
  }
 },
 "nbformat": 4,
 "nbformat_minor": 5
}
